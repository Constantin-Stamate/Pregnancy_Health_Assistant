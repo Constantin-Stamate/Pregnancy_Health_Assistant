{
 "cells": [
  {
   "cell_type": "markdown",
   "metadata": {},
   "source": [
    "<h3 style=\"color:white; font-size:22px; font-weight:bold;\">\n",
    "Cardiotocogram (CTG): The dataset contains 2126 rows and 22 columns. \n",
    "A brief description is provided below:\n",
    "</h3>\n",
    "\n",
    "<small style=\"font-size:14px; font-weight:lighter; color:white;\">\n",
    "1. <span style=\"font-style:italic; font-weight:600; color:#f0f0f0;\">baseline value</span>: The baseline fetal heart rate (FHR) in beats per minute.<br>\n",
    "2. <span style=\"font-style:italic; font-weight:600; color:#f0f0f0;\">accelerations</span>: Number of accelerations per second, which are temporary increases in FHR.<br>\n",
    "3. <span style=\"font-style:italic; font-weight:600; color:#f0f0f0;\">fetal_movement</span>: Number of fetal movements per second.<br>\n",
    "4. <span style=\"font-style:italic; font-weight:600; color:#f0f0f0;\">uterine_contractions</span>: Number of uterine contractions per second.<br>\n",
    "5. <span style=\"font-style:italic; font-weight:600; color:#f0f0f0;\">light_decelerations</span>: Number of light decelerations per second, which are temporary decreases in FHR.<br>\n",
    "6. <span style=\"font-style:italic; font-weight:600; color:#f0f0f0;\">severe_decelerations</span>: Number of severe decelerations per second.<br>\n",
    "7. <span style=\"font-style:italic; font-weight:600; color:#f0f0f0;\">prolongued_decelerations</span>: Number of prolonged decelerations per second.<br>\n",
    "8. <span style=\"font-style:italic; font-weight:600; color:#f0f0f0;\">abnormal_short_term_variability</span>: Percentage of time with abnormal short-term variability in FHR.<br>\n",
    "9. <span style=\"font-style:italic; font-weight:600; color:#f0f0f0;\">mean_value_of_short_term_variability</span>: Mean value of short-term variability in FHR.<br>\n",
    "10. <span style=\"font-style:italic; font-weight:600; color:#f0f0f0;\">percentage_of_time_with_abnormal_long_term_variability</span>: Percentage of time with abnormal long-term variability in FHR.<br>\n",
    "11. <span style=\"font-style:italic; font-weight:600; color:#f0f0f0;\">mean_value_of_long_term_variability</span>: Mean value of long-term variability in FHR.<br>\n",
    "12. <span style=\"font-style:italic; font-weight:600; color:#f0f0f0;\">histogram_width</span>: Width of the histogram of FHR values.<br>\n",
    "13. <span style=\"font-style:italic; font-weight:600; color:#f0f0f0;\">histogram_min</span>: Minimum value in the histogram of FHR values.<br>\n",
    "14. <span style=\"font-style:italic; font-weight:600; color:#f0f0f0;\">histogram_max</span>: Maximum value in the histogram of FHR values.<br>\n",
    "15. <span style=\"font-style:italic; font-weight:600; color:#f0f0f0;\">histogram_number_of_peaks</span>: Number of peaks in the histogram of FHR values.<br>\n",
    "16. <span style=\"font-style:italic; font-weight:600; color:#f0f0f0;\">histogram_number_of_zeroes</span>: Number of zeroes in the histogram of FHR values.<br>\n",
    "17. <span style=\"font-style:italic; font-weight:600; color:#f0f0f0;\">histogram_mode</span>: Mode of the histogram of FHR values.<br>\n",
    "18. <span style=\"font-style:italic; font-weight:600; color:#f0f0f0;\">histogram_mean</span>: Mean value of the histogram of FHR values.<br>\n",
    "19. <span style=\"font-style:italic; font-weight:600; color:#f0f0f0;\">histogram_median</span>: Median value of the histogram of FHR values.<br>\n",
    "20. <span style=\"font-style:italic; font-weight:600; color:#f0f0f0;\">histogram_variance</span>: Variance of the histogram of FHR values.<br>\n",
    "21. <span style=\"font-style:italic; font-weight:600; color:#f0f0f0;\">histogram_tendency</span>: Tendency of the histogram of FHR values (e.g., skewness).<br>\n",
    "22. <span style=\"font-style:italic; font-weight:600; color:#f0f0f0;\">fetal_health</span>: The target variable indicating the health status of the fetus (<i>1: Normal</i>, <i>2: Suspect</i>, <i>3: Pathological</i>).\n",
    "</small>"
   ]
  },
  {
   "cell_type": "code",
   "execution_count": 1,
   "metadata": {},
   "outputs": [],
   "source": [
    "import pandas as pd\n",
    "import seaborn as sns\n",
    "import matplotlib.pyplot as plt\n",
    "from imblearn.over_sampling import SMOTE\n",
    "from sklearn.model_selection import train_test_split\n",
    "from sklearn.ensemble import GradientBoostingClassifier\n",
    "from sklearn.metrics import accuracy_score\n",
    "from sklearn.metrics import confusion_matrix"
   ]
  },
  {
   "cell_type": "code",
   "execution_count": 2,
   "metadata": {},
   "outputs": [],
   "source": [
    "df = pd.read_csv(\"../data/fetal_health.csv\")"
   ]
  }
 ],
 "metadata": {
  "kernelspec": {
   "display_name": "base",
   "language": "python",
   "name": "python3"
  },
  "language_info": {
   "codemirror_mode": {
    "name": "ipython",
    "version": 3
   },
   "file_extension": ".py",
   "mimetype": "text/x-python",
   "name": "python",
   "nbconvert_exporter": "python",
   "pygments_lexer": "ipython3",
   "version": "3.12.2"
  }
 },
 "nbformat": 4,
 "nbformat_minor": 2
}
